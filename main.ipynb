{
 "cells": [
  {
   "cell_type": "code",
   "execution_count": null,
   "id": "46efad6a",
   "metadata": {},
   "outputs": [],
   "source": [
    "from typing import TypeVar\n",
    "\n",
    "\n",
    "T = TypeVar('T')\n",
    "\n",
    "def pr(val : T , title:str|None = None , description: str|None = None) : # type: ignore\n",
    "    if title != None :\n",
    "        print(f\" ---------------------- {title} ---------------------- \")\n",
    "        if description != None :\n",
    "            print(f\" <-- {description} -->\")\n",
    "    print('type: ' , type(val))\n",
    "    display(val , '\\n')\n",
    "    # return val\n"
   ]
  },
  {
   "cell_type": "code",
   "execution_count": 2,
   "id": "c5ec9eef",
   "metadata": {},
   "outputs": [],
   "source": [
    "import numpy as np \n",
    "import pandas as pd"
   ]
  },
  {
   "cell_type": "code",
   "execution_count": 3,
   "id": "25e6ff17",
   "metadata": {},
   "outputs": [
    {
     "name": "stdout",
     "output_type": "stream",
     "text": [
      "type:  <class 'numpy.ndarray'>\n",
      "[1 2 3 4] \n",
      "\n",
      "type:  <class 'numpy.ndarray'>\n",
      "[2 4 6 8] \n",
      "\n"
     ]
    }
   ],
   "source": [
    "array = np.array([1,2,3,4])\n",
    "pr(array)\n",
    "pr(array*2)"
   ]
  },
  {
   "cell_type": "code",
   "execution_count": 4,
   "id": "cd74c257",
   "metadata": {},
   "outputs": [
    {
     "name": "stdout",
     "output_type": "stream",
     "text": [
      " ---------------------- python list ---------------------- \n",
      "type:  <class 'list'>\n",
      "[1, 2, 3, 4] \n",
      "\n",
      " ---------------------- numpy array ---------------------- \n",
      "type:  <class 'numpy.ndarray'>\n",
      "[1 2 3 4] \n",
      "\n",
      " ---------------------- pandas series ---------------------- \n",
      "type:  <class 'pandas.core.series.Series'>\n",
      "0    1\n",
      "1    2\n",
      "2    3\n",
      "3    4\n",
      "dtype: int64 \n",
      "\n"
     ]
    }
   ],
   "source": [
    "test_array  = [1,2,3,4]\n",
    "pr(test_array , 'python list')\n",
    "pr(np.array(test_array) , 'numpy array')\n",
    "pr(pd.Series(test_array) , 'pandas series')"
   ]
  },
  {
   "cell_type": "code",
   "execution_count": 5,
   "id": "620ab8ef",
   "metadata": {},
   "outputs": [
    {
     "name": "stdout",
     "output_type": "stream",
     "text": [
      " ---------------------- array.size ---------------------- \n",
      "type:  <class 'int'>\n",
      "4 \n",
      "\n",
      " ---------------------- array.shape ---------------------- \n",
      "type:  <class 'tuple'>\n",
      "(4,) \n",
      "\n",
      " ---------------------- array.ndim ---------------------- \n",
      "type:  <class 'int'>\n",
      "1 \n",
      "\n",
      " ---------------------- array.dtype ---------------------- \n",
      "type:  <class 'numpy.dtypes.Int64DType'>\n",
      "int64 \n",
      "\n",
      " ---------------------- array.itemsize ---------------------- \n",
      "type:  <class 'int'>\n",
      "8 \n",
      "\n",
      " ---------------------- array.nbytes ---------------------- \n",
      "type:  <class 'int'>\n",
      "32 \n",
      "\n"
     ]
    }
   ],
   "source": [
    "pr(array.size , 'array.size')\n",
    "pr(array.shape , 'array.shape')\n",
    "pr(array.ndim , 'array.ndim')\n",
    "pr(array.dtype , 'array.dtype')\n",
    "pr(array.itemsize , 'array.itemsize')\n",
    "pr(array.nbytes , 'array.nbytes')"
   ]
  },
  {
   "cell_type": "code",
   "execution_count": 8,
   "id": "70f02fae",
   "metadata": {},
   "outputs": [
    {
     "name": "stdout",
     "output_type": "stream",
     "text": [
      " ---------------------- a is changed when b changed ---------------------- \n",
      "type:  <class 'numpy.ndarray'>\n",
      "[ 10 999  30  40] \n",
      "\n",
      " ---------------------- a do not change when c change ---------------------- \n",
      "type:  <class 'numpy.ndarray'>\n",
      "[ 10 999  30  40] \n",
      "\n"
     ]
    }
   ],
   "source": [
    "a = np.array([10,20,30,40])\n",
    "b = a[1:3]\n",
    "b[0] = 999\n",
    "pr(a , 'a is changed when b changed') \n",
    "c = a[1:3].copy()\n",
    "c[0] = 123\n",
    "pr(a , 'a do not change when c change')"
   ]
  },
  {
   "cell_type": "code",
   "execution_count": 11,
   "id": "b497e053",
   "metadata": {},
   "outputs": [
    {
     "name": "stdout",
     "output_type": "stream",
     "text": [
      " ---------------------- a ---------------------- \n",
      "type:  <class 'numpy.dtypes.Int64DType'>\n",
      "int64 \n",
      "\n",
      " ---------------------- b ---------------------- \n",
      "type:  <class 'numpy.dtypes.Int32DType'>\n",
      "int32 \n",
      "\n",
      " ---------------------- c ---------------------- \n",
      "type:  <class 'numpy.dtypes.Float32DType'>\n",
      "float32 \n",
      "\n",
      " ---------------------- type cast int to float ---------------------- \n",
      "type:  <class 'numpy.dtypes.Float64DType'>\n",
      "float64 \n",
      "\n"
     ]
    }
   ],
   "source": [
    "test_array = [1 ,2,3,4,5]\n",
    "a = np.array(test_array , dtype=np.int64)\n",
    "b = np.array(test_array , dtype=np.int32)\n",
    "c = np.array(test_array , dtype=np.float32)\n",
    "pr(a.dtype , 'a')\n",
    "pr(b.dtype , 'b')\n",
    "pr(c.dtype , 'c')\n",
    "pr(a.astype(np.float64).dtype , 'type cast int to float')"
   ]
  },
  {
   "cell_type": "markdown",
   "id": "433549ca",
   "metadata": {},
   "source": [
    "# multidimensional arrays"
   ]
  },
  {
   "cell_type": "code",
   "execution_count": 15,
   "id": "15f14827",
   "metadata": {},
   "outputs": [
    {
     "name": "stdout",
     "output_type": "stream",
     "text": [
      " ---------------------- array0D.ndim ---------------------- \n",
      "type:  <class 'int'>\n",
      "0 \n",
      "\n",
      " ---------------------- array0D.shape ---------------------- \n",
      "type:  <class 'tuple'>\n",
      "() \n",
      "\n",
      " ---------------------- array1D.ndim ---------------------- \n",
      "type:  <class 'int'>\n",
      "1 \n",
      "\n",
      " ---------------------- array1D.shape ---------------------- \n",
      "type:  <class 'tuple'>\n",
      "(3,) \n",
      "\n",
      " ---------------------- array2D.ndim ---------------------- \n",
      "type:  <class 'int'>\n",
      "2 \n",
      "\n",
      " ---------------------- array2D.shape ---------------------- \n",
      "type:  <class 'tuple'>\n",
      "(3, 3) \n",
      "\n",
      " ---------------------- array3D.ndim ---------------------- \n",
      "type:  <class 'int'>\n",
      "3 \n",
      "\n",
      " ---------------------- array3D.shape ---------------------- \n",
      "type:  <class 'tuple'>\n",
      "(3, 3, 3) \n",
      "\n"
     ]
    }
   ],
   "source": [
    "array0D = np.array('A')\n",
    "array1D = np.array(['A','B', 'C'])\n",
    "array2D = np.array([['A','B', 'C'] , ['D','E','F'] , ['G','H','J']])\n",
    "array3D = np.array([[['A','B', 'C'] , ['D','E','F'] , ['G','H','J']],\n",
    "                    [['K','L', 'M'] , ['N','O','P'] , ['Q','R','S']],\n",
    "                    [['T','U', 'V'] , ['W','X','Z'] , ['G','H','J']],])\n",
    "pr(array0D.ndim , 'array0D.ndim' )\n",
    "pr(array0D.shape , 'array0D.shape' )\n",
    "pr(array1D.ndim , 'array1D.ndim' )\n",
    "pr(array1D.shape , 'array1D.shape' )\n",
    "pr(array2D.ndim , 'array2D.ndim' )\n",
    "pr(array2D.shape , 'array2D.shape' )\n",
    "pr(array3D.ndim , 'array3D.ndim' )\n",
    "pr(array3D.shape , 'array3D.shape' )"
   ]
  },
  {
   "cell_type": "code",
   "execution_count": 17,
   "id": "1517239f",
   "metadata": {},
   "outputs": [
    {
     "name": "stdout",
     "output_type": "stream",
     "text": [
      "type:  <class 'numpy.str_'>\n",
      "A \n",
      "\n",
      "type:  <class 'numpy.str_'>\n",
      "A \n",
      "\n"
     ]
    }
   ],
   "source": [
    "# chain indexing\n",
    "pr(array3D[0][0][0])\n",
    "# multidimensional indexing\n",
    "pr(array3D[0,0,0])"
   ]
  },
  {
   "cell_type": "code",
   "execution_count": 23,
   "id": "dac3cc19",
   "metadata": {},
   "outputs": [
    {
     "name": "stdout",
     "output_type": "stream",
     "text": [
      " ---------------------- array3D ---------------------- \n",
      "type:  <class 'numpy.ndarray'>\n",
      "[[['A' 'B' 'C']\n",
      "  ['D' 'E' 'F']\n",
      "  ['G' 'H' 'J']]\n",
      "\n",
      " [['K' 'L' 'M']\n",
      "  ['N' 'O' 'P']\n",
      "  ['Q' 'R' 'S']]\n",
      "\n",
      " [['T' 'U' 'V']\n",
      "  ['W' 'X' 'Z']\n",
      "  ['G' 'H' 'J']]] \n",
      "\n",
      "type:  <class 'str'>\n",
      "HELLO \n",
      "\n"
     ]
    }
   ],
   "source": [
    "pr(array3D , 'array3D')\n",
    "pr(array3D[0,2,1] + array3D[0,1,1] + array3D[1,0,1] + array3D[1,0,1] + array3D[1,1,1])"
   ]
  },
  {
   "cell_type": "code",
   "execution_count": 27,
   "id": "1cadccf6",
   "metadata": {},
   "outputs": [
    {
     "name": "stdout",
     "output_type": "stream",
     "text": [
      "type:  <class 'numpy.ndarray'>\n",
      "[[[ 0  1  2  3]\n",
      "  [ 4  5  6  7]\n",
      "  [ 8  9 10 11]]\n",
      "\n",
      " [[12 13 14 15]\n",
      "  [16 17 18 19]\n",
      "  [20 21 22 23]]] \n",
      "\n"
     ]
    }
   ],
   "source": [
    "x = np.arange(24)\n",
    "x= x.reshape(2,3,4)\n",
    "pr(x)"
   ]
  },
  {
   "cell_type": "code",
   "execution_count": 37,
   "id": "7f4a50fb",
   "metadata": {},
   "outputs": [
    {
     "name": "stdout",
     "output_type": "stream",
     "text": [
      "type:  <class 'numpy.ndarray'>\n",
      "[[0 0 0]\n",
      " [0 0 0]\n",
      " [0 0 0]] \n",
      "\n",
      "type:  <class 'numpy.ndarray'>\n",
      "[[1. 1. 1.]\n",
      " [1. 1. 1.]\n",
      " [1. 1. 1.]] \n",
      "\n",
      "type:  <class 'numpy.ndarray'>\n",
      "[[7. 7.]\n",
      " [7. 7.]] \n",
      "\n",
      "type:  <class 'numpy.ndarray'>\n",
      "[[1. 0. 0. 0. 0.]\n",
      " [0. 1. 0. 0. 0.]\n",
      " [0. 0. 1. 0. 0.]\n",
      " [0. 0. 0. 1. 0.]\n",
      " [0. 0. 0. 0. 1.]] \n",
      "\n",
      "type:  <class 'numpy.ndarray'>\n",
      "[[[ 0  1]\n",
      "  [ 2  3]\n",
      "  [ 4  5]]\n",
      "\n",
      " [[ 6  7]\n",
      "  [ 8  9]\n",
      "  [10 11]]] \n",
      "\n",
      "type:  <class 'numpy.ndarray'>\n",
      "[0.   0.25 0.5  0.75 1.  ] \n",
      "\n"
     ]
    }
   ],
   "source": [
    "pr(np.zeros(shape=(3,3) , dtype=np.int64))\n",
    "pr(np.ones(shape=(3,3) , dtype=np.float32))\n",
    "pr(np.full(shape=(2,2) , fill_value=7 , dtype=np.float32))\n",
    "pr(np.eye(5))\n",
    "pr(np.arange(12).reshape(2,3,2))\n",
    "pr(np.linspace(0,1,5))"
   ]
  },
  {
   "cell_type": "code",
   "execution_count": null,
   "id": "a267b65f",
   "metadata": {},
   "outputs": [],
   "source": []
  }
 ],
 "metadata": {
  "kernelspec": {
   "display_name": "venv",
   "language": "python",
   "name": "python3"
  },
  "language_info": {
   "codemirror_mode": {
    "name": "ipython",
    "version": 3
   },
   "file_extension": ".py",
   "mimetype": "text/x-python",
   "name": "python",
   "nbconvert_exporter": "python",
   "pygments_lexer": "ipython3",
   "version": "3.13.5"
  }
 },
 "nbformat": 4,
 "nbformat_minor": 5
}
