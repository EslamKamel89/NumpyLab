{
 "cells": [
  {
   "cell_type": "code",
   "execution_count": null,
   "id": "46efad6a",
   "metadata": {},
   "outputs": [],
   "source": [
    "from typing import TypeVar\n",
    "\n",
    "\n",
    "T = TypeVar('T')\n",
    "\n",
    "def pr(val : T , title:str|None = None , description: str|None = None) : # type: ignore\n",
    "    if title != None :\n",
    "        print(f\" ---------------------- {title} ---------------------- \")\n",
    "        if description != None :\n",
    "            print(f\" <-- {description} -->\")\n",
    "    print('type: ' , type(val))\n",
    "    display(val , '\\n')\n",
    "    # return val\n"
   ]
  },
  {
   "cell_type": "code",
   "execution_count": 2,
   "id": "c5ec9eef",
   "metadata": {},
   "outputs": [],
   "source": [
    "import numpy as np \n",
    "import pandas as pd"
   ]
  },
  {
   "cell_type": "code",
   "execution_count": 3,
   "id": "25e6ff17",
   "metadata": {},
   "outputs": [
    {
     "name": "stdout",
     "output_type": "stream",
     "text": [
      "type:  <class 'numpy.ndarray'>\n",
      "[1 2 3 4] \n",
      "\n",
      "type:  <class 'numpy.ndarray'>\n",
      "[2 4 6 8] \n",
      "\n"
     ]
    }
   ],
   "source": [
    "array = np.array([1,2,3,4])\n",
    "pr(array)\n",
    "pr(array*2)"
   ]
  },
  {
   "cell_type": "code",
   "execution_count": 4,
   "id": "cd74c257",
   "metadata": {},
   "outputs": [
    {
     "name": "stdout",
     "output_type": "stream",
     "text": [
      " ---------------------- python list ---------------------- \n",
      "type:  <class 'list'>\n",
      "[1, 2, 3, 4] \n",
      "\n",
      " ---------------------- numpy array ---------------------- \n",
      "type:  <class 'numpy.ndarray'>\n",
      "[1 2 3 4] \n",
      "\n",
      " ---------------------- pandas series ---------------------- \n",
      "type:  <class 'pandas.core.series.Series'>\n",
      "0    1\n",
      "1    2\n",
      "2    3\n",
      "3    4\n",
      "dtype: int64 \n",
      "\n"
     ]
    }
   ],
   "source": [
    "test_array  = [1,2,3,4]\n",
    "pr(test_array , 'python list')\n",
    "pr(np.array(test_array) , 'numpy array')\n",
    "pr(pd.Series(test_array) , 'pandas series')"
   ]
  },
  {
   "cell_type": "code",
   "execution_count": 5,
   "id": "620ab8ef",
   "metadata": {},
   "outputs": [
    {
     "name": "stdout",
     "output_type": "stream",
     "text": [
      " ---------------------- array.size ---------------------- \n",
      "type:  <class 'int'>\n",
      "4 \n",
      "\n",
      " ---------------------- array.shape ---------------------- \n",
      "type:  <class 'tuple'>\n",
      "(4,) \n",
      "\n",
      " ---------------------- array.ndim ---------------------- \n",
      "type:  <class 'int'>\n",
      "1 \n",
      "\n",
      " ---------------------- array.dtype ---------------------- \n",
      "type:  <class 'numpy.dtypes.Int64DType'>\n",
      "int64 \n",
      "\n",
      " ---------------------- array.itemsize ---------------------- \n",
      "type:  <class 'int'>\n",
      "8 \n",
      "\n",
      " ---------------------- array.nbytes ---------------------- \n",
      "type:  <class 'int'>\n",
      "32 \n",
      "\n"
     ]
    }
   ],
   "source": [
    "pr(array.size , 'array.size')\n",
    "pr(array.shape , 'array.shape')\n",
    "pr(array.ndim , 'array.ndim')\n",
    "pr(array.dtype , 'array.dtype')\n",
    "pr(array.itemsize , 'array.itemsize')\n",
    "pr(array.nbytes , 'array.nbytes')"
   ]
  },
  {
   "cell_type": "code",
   "execution_count": 8,
   "id": "70f02fae",
   "metadata": {},
   "outputs": [
    {
     "name": "stdout",
     "output_type": "stream",
     "text": [
      " ---------------------- a is changed when b changed ---------------------- \n",
      "type:  <class 'numpy.ndarray'>\n",
      "[ 10 999  30  40] \n",
      "\n",
      " ---------------------- a do not change when c change ---------------------- \n",
      "type:  <class 'numpy.ndarray'>\n",
      "[ 10 999  30  40] \n",
      "\n"
     ]
    }
   ],
   "source": [
    "a = np.array([10,20,30,40])\n",
    "b = a[1:3]\n",
    "b[0] = 999\n",
    "pr(a , 'a is changed when b changed') \n",
    "c = a[1:3].copy()\n",
    "c[0] = 123\n",
    "pr(a , 'a do not change when c change')"
   ]
  },
  {
   "cell_type": "code",
   "execution_count": null,
   "id": "b497e053",
   "metadata": {},
   "outputs": [],
   "source": [
    "test_array = [1 ,2,3,4,5]\n",
    "a = np.array(test_array , dtype=np.int64)\n",
    "b = np.array(test_array , dtype=np.int32)\n",
    "c = np.array(test_array , dtype=np.float32)\n",
    "pr(a , 'a')\n",
    "pr(b , 'b')\n",
    "pr(c , 'c')"
   ]
  }
 ],
 "metadata": {
  "kernelspec": {
   "display_name": "venv",
   "language": "python",
   "name": "python3"
  },
  "language_info": {
   "codemirror_mode": {
    "name": "ipython",
    "version": 3
   },
   "file_extension": ".py",
   "mimetype": "text/x-python",
   "name": "python",
   "nbconvert_exporter": "python",
   "pygments_lexer": "ipython3",
   "version": "3.13.5"
  }
 },
 "nbformat": 4,
 "nbformat_minor": 5
}
