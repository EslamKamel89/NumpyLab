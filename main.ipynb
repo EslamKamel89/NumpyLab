{
 "cells": [
  {
   "cell_type": "code",
   "execution_count": null,
   "id": "46efad6a",
   "metadata": {},
   "outputs": [],
   "source": [
    "from typing import TypeVar\n",
    "\n",
    "\n",
    "T = TypeVar('T')\n",
    "\n",
    "def pr(val : T , title:str|None = None , description: str|None = None) : # type: ignore\n",
    "    if title != None :\n",
    "        print(f\" ---------------------- {title} ---------------------- \")\n",
    "        if description != None :\n",
    "            print(f\" <-- {description} -->\")\n",
    "    print('type: ' , type(val))\n",
    "    display(val , '\\n')\n",
    "    # return val\n"
   ]
  },
  {
   "cell_type": "code",
   "execution_count": 2,
   "id": "c5ec9eef",
   "metadata": {},
   "outputs": [],
   "source": [
    "import numpy as np \n",
    "import pandas as pd"
   ]
  },
  {
   "cell_type": "code",
   "execution_count": 3,
   "id": "25e6ff17",
   "metadata": {},
   "outputs": [
    {
     "name": "stdout",
     "output_type": "stream",
     "text": [
      "type:  <class 'numpy.ndarray'>\n",
      "[1 2 3 4] \n",
      "\n",
      "type:  <class 'numpy.ndarray'>\n",
      "[2 4 6 8] \n",
      "\n"
     ]
    }
   ],
   "source": [
    "array = np.array([1,2,3,4])\n",
    "pr(array)\n",
    "pr(array*2)"
   ]
  },
  {
   "cell_type": "code",
   "execution_count": null,
   "id": "cd74c257",
   "metadata": {},
   "outputs": [],
   "source": []
  }
 ],
 "metadata": {
  "kernelspec": {
   "display_name": "venv",
   "language": "python",
   "name": "python3"
  },
  "language_info": {
   "codemirror_mode": {
    "name": "ipython",
    "version": 3
   },
   "file_extension": ".py",
   "mimetype": "text/x-python",
   "name": "python",
   "nbconvert_exporter": "python",
   "pygments_lexer": "ipython3",
   "version": "3.13.5"
  }
 },
 "nbformat": 4,
 "nbformat_minor": 5
}
