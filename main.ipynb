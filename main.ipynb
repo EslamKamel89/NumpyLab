{
 "cells": [
  {
   "cell_type": "code",
   "execution_count": 1,
   "id": "46efad6a",
   "metadata": {},
   "outputs": [],
   "source": [
    "from typing import TypeVar\n",
    "\n",
    "\n",
    "T = TypeVar('T')\n",
    "\n",
    "def pr(val : T , title:str|None = None , description: str|None = None) : # type: ignore\n",
    "    if title != None :\n",
    "        print(f\" ---------------------- {title} ---------------------- \")\n",
    "        if description != None :\n",
    "            print(f\" <-- {description} -->\")\n",
    "    print('type: ' , type(val))\n",
    "    display(val)\n",
    "    # return val\n"
   ]
  },
  {
   "cell_type": "code",
   "execution_count": 2,
   "id": "c5ec9eef",
   "metadata": {},
   "outputs": [],
   "source": [
    "import numpy as np \n",
    "import pandas as pd"
   ]
  },
  {
   "cell_type": "code",
   "execution_count": 3,
   "id": "25e6ff17",
   "metadata": {},
   "outputs": [
    {
     "name": "stdout",
     "output_type": "stream",
     "text": [
      "type:  <class 'numpy.ndarray'>\n"
     ]
    },
    {
     "data": {
      "text/plain": [
       "array([1, 2, 3, 4])"
      ]
     },
     "metadata": {},
     "output_type": "display_data"
    },
    {
     "name": "stdout",
     "output_type": "stream",
     "text": [
      "type:  <class 'numpy.ndarray'>\n"
     ]
    },
    {
     "data": {
      "text/plain": [
       "array([2, 4, 6, 8])"
      ]
     },
     "metadata": {},
     "output_type": "display_data"
    }
   ],
   "source": [
    "array = np.array([1,2,3,4])\n",
    "pr(array)\n",
    "pr(array*2)"
   ]
  },
  {
   "cell_type": "code",
   "execution_count": 4,
   "id": "cd74c257",
   "metadata": {},
   "outputs": [
    {
     "name": "stdout",
     "output_type": "stream",
     "text": [
      " ---------------------- python list ---------------------- \n",
      "type:  <class 'list'>\n"
     ]
    },
    {
     "data": {
      "text/plain": [
       "[1, 2, 3, 4]"
      ]
     },
     "metadata": {},
     "output_type": "display_data"
    },
    {
     "name": "stdout",
     "output_type": "stream",
     "text": [
      " ---------------------- numpy array ---------------------- \n",
      "type:  <class 'numpy.ndarray'>\n"
     ]
    },
    {
     "data": {
      "text/plain": [
       "array([1, 2, 3, 4])"
      ]
     },
     "metadata": {},
     "output_type": "display_data"
    },
    {
     "name": "stdout",
     "output_type": "stream",
     "text": [
      " ---------------------- pandas series ---------------------- \n",
      "type:  <class 'pandas.core.series.Series'>\n"
     ]
    },
    {
     "data": {
      "text/plain": [
       "0    1\n",
       "1    2\n",
       "2    3\n",
       "3    4\n",
       "dtype: int64"
      ]
     },
     "metadata": {},
     "output_type": "display_data"
    }
   ],
   "source": [
    "test_array  = [1,2,3,4]\n",
    "pr(test_array , 'python list')\n",
    "pr(np.array(test_array) , 'numpy array')\n",
    "pr(pd.Series(test_array) , 'pandas series')"
   ]
  },
  {
   "cell_type": "code",
   "execution_count": 5,
   "id": "620ab8ef",
   "metadata": {},
   "outputs": [
    {
     "name": "stdout",
     "output_type": "stream",
     "text": [
      " ---------------------- array.size ---------------------- \n",
      "type:  <class 'int'>\n"
     ]
    },
    {
     "data": {
      "text/plain": [
       "4"
      ]
     },
     "metadata": {},
     "output_type": "display_data"
    },
    {
     "name": "stdout",
     "output_type": "stream",
     "text": [
      " ---------------------- array.shape ---------------------- \n",
      "type:  <class 'tuple'>\n"
     ]
    },
    {
     "data": {
      "text/plain": [
       "(4,)"
      ]
     },
     "metadata": {},
     "output_type": "display_data"
    },
    {
     "name": "stdout",
     "output_type": "stream",
     "text": [
      " ---------------------- array.ndim ---------------------- \n",
      "type:  <class 'int'>\n"
     ]
    },
    {
     "data": {
      "text/plain": [
       "1"
      ]
     },
     "metadata": {},
     "output_type": "display_data"
    },
    {
     "name": "stdout",
     "output_type": "stream",
     "text": [
      " ---------------------- array.dtype ---------------------- \n",
      "type:  <class 'numpy.dtypes.Int64DType'>\n"
     ]
    },
    {
     "data": {
      "text/plain": [
       "dtype('int64')"
      ]
     },
     "metadata": {},
     "output_type": "display_data"
    },
    {
     "name": "stdout",
     "output_type": "stream",
     "text": [
      " ---------------------- array.itemsize ---------------------- \n",
      "type:  <class 'int'>\n"
     ]
    },
    {
     "data": {
      "text/plain": [
       "8"
      ]
     },
     "metadata": {},
     "output_type": "display_data"
    },
    {
     "name": "stdout",
     "output_type": "stream",
     "text": [
      " ---------------------- array.nbytes ---------------------- \n",
      "type:  <class 'int'>\n"
     ]
    },
    {
     "data": {
      "text/plain": [
       "32"
      ]
     },
     "metadata": {},
     "output_type": "display_data"
    }
   ],
   "source": [
    "pr(array.size , 'array.size')\n",
    "pr(array.shape , 'array.shape')\n",
    "pr(array.ndim , 'array.ndim')\n",
    "pr(array.dtype , 'array.dtype')\n",
    "pr(array.itemsize , 'array.itemsize')\n",
    "pr(array.nbytes , 'array.nbytes')"
   ]
  },
  {
   "cell_type": "code",
   "execution_count": 6,
   "id": "70f02fae",
   "metadata": {},
   "outputs": [
    {
     "name": "stdout",
     "output_type": "stream",
     "text": [
      " ---------------------- a is changed when b changed ---------------------- \n",
      "type:  <class 'numpy.ndarray'>\n"
     ]
    },
    {
     "data": {
      "text/plain": [
       "array([ 10, 999,  30,  40])"
      ]
     },
     "metadata": {},
     "output_type": "display_data"
    },
    {
     "name": "stdout",
     "output_type": "stream",
     "text": [
      " ---------------------- a do not change when c change ---------------------- \n",
      "type:  <class 'numpy.ndarray'>\n"
     ]
    },
    {
     "data": {
      "text/plain": [
       "array([ 10, 999,  30,  40])"
      ]
     },
     "metadata": {},
     "output_type": "display_data"
    }
   ],
   "source": [
    "a = np.array([10,20,30,40])\n",
    "b = a[1:3]\n",
    "b[0] = 999\n",
    "pr(a , 'a is changed when b changed') \n",
    "c = a[1:3].copy()\n",
    "c[0] = 123\n",
    "pr(a , 'a do not change when c change')"
   ]
  },
  {
   "cell_type": "code",
   "execution_count": 7,
   "id": "b497e053",
   "metadata": {},
   "outputs": [
    {
     "name": "stdout",
     "output_type": "stream",
     "text": [
      " ---------------------- a ---------------------- \n",
      "type:  <class 'numpy.dtypes.Int64DType'>\n"
     ]
    },
    {
     "data": {
      "text/plain": [
       "dtype('int64')"
      ]
     },
     "metadata": {},
     "output_type": "display_data"
    },
    {
     "name": "stdout",
     "output_type": "stream",
     "text": [
      " ---------------------- b ---------------------- \n",
      "type:  <class 'numpy.dtypes.Int32DType'>\n"
     ]
    },
    {
     "data": {
      "text/plain": [
       "dtype('int32')"
      ]
     },
     "metadata": {},
     "output_type": "display_data"
    },
    {
     "name": "stdout",
     "output_type": "stream",
     "text": [
      " ---------------------- c ---------------------- \n",
      "type:  <class 'numpy.dtypes.Float32DType'>\n"
     ]
    },
    {
     "data": {
      "text/plain": [
       "dtype('float32')"
      ]
     },
     "metadata": {},
     "output_type": "display_data"
    },
    {
     "name": "stdout",
     "output_type": "stream",
     "text": [
      " ---------------------- type cast int to float ---------------------- \n",
      "type:  <class 'numpy.dtypes.Float64DType'>\n"
     ]
    },
    {
     "data": {
      "text/plain": [
       "dtype('float64')"
      ]
     },
     "metadata": {},
     "output_type": "display_data"
    }
   ],
   "source": [
    "test_array = [1 ,2,3,4,5]\n",
    "a = np.array(test_array , dtype=np.int64)\n",
    "b = np.array(test_array , dtype=np.int32)\n",
    "c = np.array(test_array , dtype=np.float32)\n",
    "pr(a.dtype , 'a')\n",
    "pr(b.dtype , 'b')\n",
    "pr(c.dtype , 'c')\n",
    "pr(a.astype(np.float64).dtype , 'type cast int to float')"
   ]
  },
  {
   "cell_type": "markdown",
   "id": "433549ca",
   "metadata": {},
   "source": [
    "# multidimensional arrays"
   ]
  },
  {
   "cell_type": "code",
   "execution_count": 8,
   "id": "15f14827",
   "metadata": {},
   "outputs": [
    {
     "name": "stdout",
     "output_type": "stream",
     "text": [
      " ---------------------- array0D.ndim ---------------------- \n",
      "type:  <class 'int'>\n"
     ]
    },
    {
     "data": {
      "text/plain": [
       "0"
      ]
     },
     "metadata": {},
     "output_type": "display_data"
    },
    {
     "name": "stdout",
     "output_type": "stream",
     "text": [
      " ---------------------- array0D.shape ---------------------- \n",
      "type:  <class 'tuple'>\n"
     ]
    },
    {
     "data": {
      "text/plain": [
       "()"
      ]
     },
     "metadata": {},
     "output_type": "display_data"
    },
    {
     "name": "stdout",
     "output_type": "stream",
     "text": [
      " ---------------------- array1D.ndim ---------------------- \n",
      "type:  <class 'int'>\n"
     ]
    },
    {
     "data": {
      "text/plain": [
       "1"
      ]
     },
     "metadata": {},
     "output_type": "display_data"
    },
    {
     "name": "stdout",
     "output_type": "stream",
     "text": [
      " ---------------------- array1D.shape ---------------------- \n",
      "type:  <class 'tuple'>\n"
     ]
    },
    {
     "data": {
      "text/plain": [
       "(3,)"
      ]
     },
     "metadata": {},
     "output_type": "display_data"
    },
    {
     "name": "stdout",
     "output_type": "stream",
     "text": [
      " ---------------------- array2D.ndim ---------------------- \n",
      "type:  <class 'int'>\n"
     ]
    },
    {
     "data": {
      "text/plain": [
       "2"
      ]
     },
     "metadata": {},
     "output_type": "display_data"
    },
    {
     "name": "stdout",
     "output_type": "stream",
     "text": [
      " ---------------------- array2D.shape ---------------------- \n",
      "type:  <class 'tuple'>\n"
     ]
    },
    {
     "data": {
      "text/plain": [
       "(3, 3)"
      ]
     },
     "metadata": {},
     "output_type": "display_data"
    },
    {
     "name": "stdout",
     "output_type": "stream",
     "text": [
      " ---------------------- array3D.ndim ---------------------- \n",
      "type:  <class 'int'>\n"
     ]
    },
    {
     "data": {
      "text/plain": [
       "3"
      ]
     },
     "metadata": {},
     "output_type": "display_data"
    },
    {
     "name": "stdout",
     "output_type": "stream",
     "text": [
      " ---------------------- array3D.shape ---------------------- \n",
      "type:  <class 'tuple'>\n"
     ]
    },
    {
     "data": {
      "text/plain": [
       "(3, 3, 3)"
      ]
     },
     "metadata": {},
     "output_type": "display_data"
    }
   ],
   "source": [
    "array0D = np.array('A')\n",
    "array1D = np.array(['A','B', 'C'])\n",
    "array2D = np.array([['A','B', 'C'] , ['D','E','F'] , ['G','H','J']])\n",
    "array3D = np.array([[['A','B', 'C'] , ['D','E','F'] , ['G','H','J']],\n",
    "                    [['K','L', 'M'] , ['N','O','P'] , ['Q','R','S']],\n",
    "                    [['T','U', 'V'] , ['W','X','Z'] , ['G','H','J']],])\n",
    "pr(array0D.ndim , 'array0D.ndim' )\n",
    "pr(array0D.shape , 'array0D.shape' )\n",
    "pr(array1D.ndim , 'array1D.ndim' )\n",
    "pr(array1D.shape , 'array1D.shape' )\n",
    "pr(array2D.ndim , 'array2D.ndim' )\n",
    "pr(array2D.shape , 'array2D.shape' )\n",
    "pr(array3D.ndim , 'array3D.ndim' )\n",
    "pr(array3D.shape , 'array3D.shape' )"
   ]
  },
  {
   "cell_type": "code",
   "execution_count": 9,
   "id": "1517239f",
   "metadata": {},
   "outputs": [
    {
     "name": "stdout",
     "output_type": "stream",
     "text": [
      "type:  <class 'numpy.str_'>\n"
     ]
    },
    {
     "data": {
      "text/plain": [
       "np.str_('A')"
      ]
     },
     "metadata": {},
     "output_type": "display_data"
    },
    {
     "name": "stdout",
     "output_type": "stream",
     "text": [
      "type:  <class 'numpy.str_'>\n"
     ]
    },
    {
     "data": {
      "text/plain": [
       "np.str_('A')"
      ]
     },
     "metadata": {},
     "output_type": "display_data"
    }
   ],
   "source": [
    "# chain indexing\n",
    "pr(array3D[0][0][0])\n",
    "# multidimensional indexing\n",
    "pr(array3D[0,0,0])"
   ]
  },
  {
   "cell_type": "code",
   "execution_count": 10,
   "id": "dac3cc19",
   "metadata": {},
   "outputs": [
    {
     "name": "stdout",
     "output_type": "stream",
     "text": [
      " ---------------------- array3D ---------------------- \n",
      "type:  <class 'numpy.ndarray'>\n"
     ]
    },
    {
     "data": {
      "text/plain": [
       "array([[['A', 'B', 'C'],\n",
       "        ['D', 'E', 'F'],\n",
       "        ['G', 'H', 'J']],\n",
       "\n",
       "       [['K', 'L', 'M'],\n",
       "        ['N', 'O', 'P'],\n",
       "        ['Q', 'R', 'S']],\n",
       "\n",
       "       [['T', 'U', 'V'],\n",
       "        ['W', 'X', 'Z'],\n",
       "        ['G', 'H', 'J']]], dtype='<U1')"
      ]
     },
     "metadata": {},
     "output_type": "display_data"
    },
    {
     "name": "stdout",
     "output_type": "stream",
     "text": [
      "type:  <class 'str'>\n"
     ]
    },
    {
     "data": {
      "text/plain": [
       "'HELLO'"
      ]
     },
     "metadata": {},
     "output_type": "display_data"
    }
   ],
   "source": [
    "pr(array3D , 'array3D')\n",
    "pr(array3D[0,2,1] + array3D[0,1,1] + array3D[1,0,1] + array3D[1,0,1] + array3D[1,1,1])"
   ]
  },
  {
   "cell_type": "code",
   "execution_count": 11,
   "id": "1cadccf6",
   "metadata": {},
   "outputs": [
    {
     "name": "stdout",
     "output_type": "stream",
     "text": [
      "type:  <class 'numpy.ndarray'>\n"
     ]
    },
    {
     "data": {
      "text/plain": [
       "array([[[ 0,  1,  2,  3],\n",
       "        [ 4,  5,  6,  7],\n",
       "        [ 8,  9, 10, 11]],\n",
       "\n",
       "       [[12, 13, 14, 15],\n",
       "        [16, 17, 18, 19],\n",
       "        [20, 21, 22, 23]]])"
      ]
     },
     "metadata": {},
     "output_type": "display_data"
    }
   ],
   "source": [
    "x = np.arange(24)\n",
    "x= x.reshape(2,3,4)\n",
    "pr(x)"
   ]
  },
  {
   "cell_type": "code",
   "execution_count": 12,
   "id": "7f4a50fb",
   "metadata": {},
   "outputs": [
    {
     "name": "stdout",
     "output_type": "stream",
     "text": [
      "type:  <class 'numpy.ndarray'>\n"
     ]
    },
    {
     "data": {
      "text/plain": [
       "array([[0, 0, 0],\n",
       "       [0, 0, 0],\n",
       "       [0, 0, 0]])"
      ]
     },
     "metadata": {},
     "output_type": "display_data"
    },
    {
     "name": "stdout",
     "output_type": "stream",
     "text": [
      "type:  <class 'numpy.ndarray'>\n"
     ]
    },
    {
     "data": {
      "text/plain": [
       "array([[1., 1., 1.],\n",
       "       [1., 1., 1.],\n",
       "       [1., 1., 1.]], dtype=float32)"
      ]
     },
     "metadata": {},
     "output_type": "display_data"
    },
    {
     "name": "stdout",
     "output_type": "stream",
     "text": [
      "type:  <class 'numpy.ndarray'>\n"
     ]
    },
    {
     "data": {
      "text/plain": [
       "array([[7., 7.],\n",
       "       [7., 7.]], dtype=float32)"
      ]
     },
     "metadata": {},
     "output_type": "display_data"
    },
    {
     "name": "stdout",
     "output_type": "stream",
     "text": [
      "type:  <class 'numpy.ndarray'>\n"
     ]
    },
    {
     "data": {
      "text/plain": [
       "array([[1., 0., 0., 0., 0.],\n",
       "       [0., 1., 0., 0., 0.],\n",
       "       [0., 0., 1., 0., 0.],\n",
       "       [0., 0., 0., 1., 0.],\n",
       "       [0., 0., 0., 0., 1.]])"
      ]
     },
     "metadata": {},
     "output_type": "display_data"
    },
    {
     "name": "stdout",
     "output_type": "stream",
     "text": [
      "type:  <class 'numpy.ndarray'>\n"
     ]
    },
    {
     "data": {
      "text/plain": [
       "array([[[ 0,  1],\n",
       "        [ 2,  3],\n",
       "        [ 4,  5]],\n",
       "\n",
       "       [[ 6,  7],\n",
       "        [ 8,  9],\n",
       "        [10, 11]]])"
      ]
     },
     "metadata": {},
     "output_type": "display_data"
    },
    {
     "name": "stdout",
     "output_type": "stream",
     "text": [
      "type:  <class 'numpy.ndarray'>\n"
     ]
    },
    {
     "data": {
      "text/plain": [
       "array([0.  , 0.25, 0.5 , 0.75, 1.  ])"
      ]
     },
     "metadata": {},
     "output_type": "display_data"
    }
   ],
   "source": [
    "pr(np.zeros(shape=(3,3) , dtype=np.int64))\n",
    "pr(np.ones(shape=(3,3) , dtype=np.float32))\n",
    "pr(np.full(shape=(2,2) , fill_value=7 , dtype=np.float32))\n",
    "pr(np.eye(5))\n",
    "pr(np.arange(12).reshape(2,3,2))\n",
    "pr(np.linspace(0,1,5))"
   ]
  },
  {
   "cell_type": "markdown",
   "id": "a267b65f",
   "metadata": {},
   "source": [
    "# slicing ✂"
   ]
  },
  {
   "cell_type": "code",
   "execution_count": 13,
   "id": "611a913a",
   "metadata": {},
   "outputs": [
    {
     "name": "stdout",
     "output_type": "stream",
     "text": [
      " ---------------------- array ---------------------- \n",
      "type:  <class 'numpy.ndarray'>\n"
     ]
    },
    {
     "data": {
      "text/plain": [
       "array([[ 1,  2,  3,  4],\n",
       "       [ 5,  6,  7,  8],\n",
       "       [ 9, 10, 11, 12],\n",
       "       [13, 14, 15, 16]])"
      ]
     },
     "metadata": {},
     "output_type": "display_data"
    }
   ],
   "source": [
    "array = np.array([[1,2,3,4],[5,6,7,8],[9,10,11,12],[13,14,15,16]])\n",
    "pr(array , 'array')"
   ]
  },
  {
   "cell_type": "code",
   "execution_count": 14,
   "id": "b732dca0",
   "metadata": {},
   "outputs": [
    {
     "name": "stdout",
     "output_type": "stream",
     "text": [
      " ---------------------- first element ---------------------- \n",
      "type:  <class 'numpy.ndarray'>\n"
     ]
    },
    {
     "data": {
      "text/plain": [
       "array([1, 2, 3, 4])"
      ]
     },
     "metadata": {},
     "output_type": "display_data"
    },
    {
     "name": "stdout",
     "output_type": "stream",
     "text": [
      " ---------------------- last element ---------------------- \n",
      "type:  <class 'numpy.ndarray'>\n"
     ]
    },
    {
     "data": {
      "text/plain": [
       "array([13, 14, 15, 16])"
      ]
     },
     "metadata": {},
     "output_type": "display_data"
    },
    {
     "name": "stdout",
     "output_type": "stream",
     "text": [
      " ---------------------- second raw - second column ---------------------- \n",
      "type:  <class 'numpy.int64'>\n"
     ]
    },
    {
     "data": {
      "text/plain": [
       "np.int64(6)"
      ]
     },
     "metadata": {},
     "output_type": "display_data"
    },
    {
     "name": "stdout",
     "output_type": "stream",
     "text": [
      " ---------------------- second raw - from second column to the end ---------------------- \n",
      "type:  <class 'numpy.ndarray'>\n"
     ]
    },
    {
     "data": {
      "text/plain": [
       "array([6, 7, 8])"
      ]
     },
     "metadata": {},
     "output_type": "display_data"
    },
    {
     "name": "stdout",
     "output_type": "stream",
     "text": [
      " ---------------------- second raw - from second column to the end with step 2 ---------------------- \n",
      "type:  <class 'numpy.ndarray'>\n"
     ]
    },
    {
     "data": {
      "text/plain": [
       "array([6, 8])"
      ]
     },
     "metadata": {},
     "output_type": "display_data"
    }
   ],
   "source": [
    "# the syntax for the indexing are array[start:end:index]\n",
    "pr(array[0] , 'first element')\n",
    "pr(array[-1] , 'last element')\n",
    "pr(array[1,1] , 'second raw - second column')\n",
    "pr(array[1,1:] , 'second raw - from second column to the end')\n",
    "pr(array[1,1::2] , 'second raw - from second column to the end with step 2')"
   ]
  },
  {
   "cell_type": "code",
   "execution_count": 15,
   "id": "4aa4b42e",
   "metadata": {},
   "outputs": [
    {
     "name": "stdout",
     "output_type": "stream",
     "text": [
      " ---------------------- this will give you from the first three rows because the end is exclusive ---------------------- \n",
      "type:  <class 'numpy.ndarray'>\n"
     ]
    },
    {
     "data": {
      "text/plain": [
       "array([[ 1,  2,  3,  4],\n",
       "       [ 5,  6,  7,  8],\n",
       "       [ 9, 10, 11, 12]])"
      ]
     },
     "metadata": {},
     "output_type": "display_data"
    },
    {
     "name": "stdout",
     "output_type": "stream",
     "text": [
      " ---------------------- select all rows but the step = 2 ---------------------- \n",
      "type:  <class 'numpy.ndarray'>\n"
     ]
    },
    {
     "data": {
      "text/plain": [
       "array([[ 1,  2,  3,  4],\n",
       "       [ 9, 10, 11, 12]])"
      ]
     },
     "metadata": {},
     "output_type": "display_data"
    }
   ],
   "source": [
    "pr(array[0:3] , 'this will give you from the first three rows because the end is exclusive')\n",
    "pr(array[::2] , 'select all rows but the step = 2')"
   ]
  },
  {
   "cell_type": "code",
   "execution_count": 16,
   "id": "69a72d86",
   "metadata": {},
   "outputs": [
    {
     "name": "stdout",
     "output_type": "stream",
     "text": [
      " ---------------------- return all the rows reversed and the columns is reversed too ---------------------- \n",
      "type:  <class 'numpy.ndarray'>\n"
     ]
    },
    {
     "data": {
      "text/plain": [
       "array([[16, 15, 14, 13],\n",
       "       [12, 11, 10,  9],\n",
       "       [ 8,  7,  6,  5],\n",
       "       [ 4,  3,  2,  1]])"
      ]
     },
     "metadata": {},
     "output_type": "display_data"
    }
   ],
   "source": [
    "pr(array[::-1 , ::-1] , 'return all the rows reversed and the columns is reversed too')"
   ]
  },
  {
   "cell_type": "code",
   "execution_count": 17,
   "id": "ec83e625",
   "metadata": {},
   "outputs": [
    {
     "name": "stdout",
     "output_type": "stream",
     "text": [
      " ---------------------- select the first column from all rows ---------------------- \n",
      "type:  <class 'numpy.ndarray'>\n"
     ]
    },
    {
     "data": {
      "text/plain": [
       "array([ 1,  5,  9, 13])"
      ]
     },
     "metadata": {},
     "output_type": "display_data"
    }
   ],
   "source": [
    "pr(array[:,0] , 'select the first column from all rows')"
   ]
  },
  {
   "cell_type": "code",
   "execution_count": 18,
   "id": "469b5093",
   "metadata": {},
   "outputs": [
    {
     "name": "stdout",
     "output_type": "stream",
     "text": [
      " ---------------------- select the last column from all rows ---------------------- \n",
      "type:  <class 'numpy.ndarray'>\n"
     ]
    },
    {
     "data": {
      "text/plain": [
       "array([ 4,  8, 12, 16])"
      ]
     },
     "metadata": {},
     "output_type": "display_data"
    }
   ],
   "source": [
    "pr(array[:,-1] , 'select the last column from all rows')"
   ]
  },
  {
   "cell_type": "code",
   "execution_count": 19,
   "id": "5331085b",
   "metadata": {},
   "outputs": [
    {
     "name": "stdout",
     "output_type": "stream",
     "text": [
      " ---------------------- note the end is exclusive and the start is inclusive ---------------------- \n",
      "type:  <class 'numpy.ndarray'>\n"
     ]
    },
    {
     "data": {
      "text/plain": [
       "array([[ 1,  2,  3],\n",
       "       [ 5,  6,  7],\n",
       "       [ 9, 10, 11]])"
      ]
     },
     "metadata": {},
     "output_type": "display_data"
    }
   ],
   "source": [
    "pr(array[0:3,0:3] , 'note the end is exclusive and the start is inclusive')"
   ]
  },
  {
   "cell_type": "code",
   "execution_count": 20,
   "id": "3d8e1701",
   "metadata": {},
   "outputs": [
    {
     "name": "stdout",
     "output_type": "stream",
     "text": [
      " ---------------------- the step is two for both the rows and columns ---------------------- \n",
      "type:  <class 'numpy.ndarray'>\n"
     ]
    },
    {
     "data": {
      "text/plain": [
       "array([[ 1,  3],\n",
       "       [ 9, 11]])"
      ]
     },
     "metadata": {},
     "output_type": "display_data"
    }
   ],
   "source": [
    "pr(array[::2,::2] , 'the step is two for both the rows and columns')"
   ]
  },
  {
   "cell_type": "code",
   "execution_count": 21,
   "id": "05a67f38",
   "metadata": {},
   "outputs": [
    {
     "name": "stdout",
     "output_type": "stream",
     "text": [
      " ---------------------- a ---------------------- \n",
      "type:  <class 'numpy.ndarray'>\n"
     ]
    },
    {
     "data": {
      "text/plain": [
       "array([0, 1, 2, 3, 4])"
      ]
     },
     "metadata": {},
     "output_type": "display_data"
    },
    {
     "name": "stdout",
     "output_type": "stream",
     "text": [
      " ---------------------- a.shape ---------------------- \n",
      "type:  <class 'tuple'>\n"
     ]
    },
    {
     "data": {
      "text/plain": [
       "(5,)"
      ]
     },
     "metadata": {},
     "output_type": "display_data"
    },
    {
     "name": "stdout",
     "output_type": "stream",
     "text": [
      " ---------------------- a.strides ---------------------- \n",
      "type:  <class 'tuple'>\n"
     ]
    },
    {
     "data": {
      "text/plain": [
       "(8,)"
      ]
     },
     "metadata": {},
     "output_type": "display_data"
    }
   ],
   "source": [
    "a = np.arange(5 , dtype=np.int64)\n",
    "pr(a , 'a')\n",
    "pr(a.shape , 'a.shape')\n",
    "pr(a.strides , 'a.strides')"
   ]
  },
  {
   "cell_type": "code",
   "execution_count": 22,
   "id": "d38f0efb",
   "metadata": {},
   "outputs": [
    {
     "name": "stdout",
     "output_type": "stream",
     "text": [
      " ---------------------- m ---------------------- \n",
      "type:  <class 'numpy.ndarray'>\n"
     ]
    },
    {
     "data": {
      "text/plain": [
       "array([[ 0,  1,  2,  3],\n",
       "       [ 4,  5,  6,  7],\n",
       "       [ 8,  9, 10, 11]])"
      ]
     },
     "metadata": {},
     "output_type": "display_data"
    },
    {
     "name": "stdout",
     "output_type": "stream",
     "text": [
      " ---------------------- m.dtype.itemsize ---------------------- \n",
      "type:  <class 'int'>\n"
     ]
    },
    {
     "data": {
      "text/plain": [
       "8"
      ]
     },
     "metadata": {},
     "output_type": "display_data"
    },
    {
     "name": "stdout",
     "output_type": "stream",
     "text": [
      " ---------------------- m.shape ---------------------- \n",
      "type:  <class 'tuple'>\n"
     ]
    },
    {
     "data": {
      "text/plain": [
       "(3, 4)"
      ]
     },
     "metadata": {},
     "output_type": "display_data"
    },
    {
     "name": "stdout",
     "output_type": "stream",
     "text": [
      " ---------------------- m.strides ---------------------- \n",
      "type:  <class 'tuple'>\n"
     ]
    },
    {
     "data": {
      "text/plain": [
       "(32, 8)"
      ]
     },
     "metadata": {},
     "output_type": "display_data"
    }
   ],
   "source": [
    "m = np.arange(12 , dtype=np.int64).reshape((3,4))\n",
    "pr(m , 'm')\n",
    "pr(m.dtype.itemsize , 'm.dtype.itemsize')\n",
    "pr(m.shape , 'm.shape')\n",
    "pr(m.strides , 'm.strides')"
   ]
  },
  {
   "cell_type": "code",
   "execution_count": 23,
   "id": "982cde9e",
   "metadata": {},
   "outputs": [
    {
     "name": "stdout",
     "output_type": "stream",
     "text": [
      " ---------------------- m ---------------------- \n",
      "type:  <class 'numpy.ndarray'>\n"
     ]
    },
    {
     "data": {
      "text/plain": [
       "array([[ 0,  1,  2,  3],\n",
       "       [ 4,  5,  6,  7],\n",
       "       [ 8,  9, 10, 11]])"
      ]
     },
     "metadata": {},
     "output_type": "display_data"
    },
    {
     "name": "stdout",
     "output_type": "stream",
     "text": [
      " ---------------------- col1 ---------------------- \n",
      "type:  <class 'numpy.ndarray'>\n"
     ]
    },
    {
     "data": {
      "text/plain": [
       "array([1, 5, 9])"
      ]
     },
     "metadata": {},
     "output_type": "display_data"
    },
    {
     "name": "stdout",
     "output_type": "stream",
     "text": [
      " ---------------------- col1.strides ---------------------- \n",
      "type:  <class 'tuple'>\n"
     ]
    },
    {
     "data": {
      "text/plain": [
       "(32,)"
      ]
     },
     "metadata": {},
     "output_type": "display_data"
    },
    {
     "name": "stdout",
     "output_type": "stream",
     "text": [
      " ---------------------- row1 ---------------------- \n",
      "type:  <class 'numpy.ndarray'>\n"
     ]
    },
    {
     "data": {
      "text/plain": [
       "array([4, 5, 6, 7])"
      ]
     },
     "metadata": {},
     "output_type": "display_data"
    },
    {
     "name": "stdout",
     "output_type": "stream",
     "text": [
      " ---------------------- row1.strides ---------------------- \n",
      "type:  <class 'tuple'>\n"
     ]
    },
    {
     "data": {
      "text/plain": [
       "(8,)"
      ]
     },
     "metadata": {},
     "output_type": "display_data"
    }
   ],
   "source": [
    "pr(m , 'm')\n",
    "col1 = m[: , 1]\n",
    "pr(col1 , 'col1')\n",
    "pr(col1.strides , 'col1.strides')\n",
    "row1 = m[1,:]\n",
    "pr(row1 , 'row1')\n",
    "pr(row1.strides , 'row1.strides')"
   ]
  },
  {
   "cell_type": "code",
   "execution_count": 24,
   "id": "ae87a578",
   "metadata": {},
   "outputs": [
    {
     "name": "stdout",
     "output_type": "stream",
     "text": [
      " ---------------------- mr ---------------------- \n",
      "type:  <class 'numpy.ndarray'>\n"
     ]
    },
    {
     "data": {
      "text/plain": [
       "array([[11, 10,  9,  8],\n",
       "       [ 7,  6,  5,  4],\n",
       "       [ 3,  2,  1,  0]])"
      ]
     },
     "metadata": {},
     "output_type": "display_data"
    },
    {
     "name": "stdout",
     "output_type": "stream",
     "text": [
      " ---------------------- mr.strides ---------------------- \n",
      "type:  <class 'tuple'>\n"
     ]
    },
    {
     "data": {
      "text/plain": [
       "(-32, -8)"
      ]
     },
     "metadata": {},
     "output_type": "display_data"
    }
   ],
   "source": [
    "mr = m[::-1 , ::-1]\n",
    "pr(mr , 'mr')\n",
    "pr(mr.strides , 'mr.strides')"
   ]
  },
  {
   "cell_type": "code",
   "execution_count": 25,
   "id": "f83cfacd",
   "metadata": {},
   "outputs": [
    {
     "name": "stdout",
     "output_type": "stream",
     "text": [
      " ---------------------- a1 ---------------------- \n",
      "type:  <class 'numpy.ndarray'>\n"
     ]
    },
    {
     "data": {
      "text/plain": [
       "array([0, 1, 2, 3, 4, 5, 6, 7, 8, 9])"
      ]
     },
     "metadata": {},
     "output_type": "display_data"
    },
    {
     "name": "stdout",
     "output_type": "stream",
     "text": [
      " ---------------------- new array not a view ---------------------- \n",
      "type:  <class 'numpy.ndarray'>\n"
     ]
    },
    {
     "data": {
      "text/plain": [
       "array([0, 2, 4])"
      ]
     },
     "metadata": {},
     "output_type": "display_data"
    },
    {
     "name": "stdout",
     "output_type": "stream",
     "text": [
      " ---------------------- new array not a view ---------------------- \n",
      "type:  <class 'numpy.ndarray'>\n"
     ]
    },
    {
     "data": {
      "text/plain": [
       "array([0, 2, 4])"
      ]
     },
     "metadata": {},
     "output_type": "display_data"
    }
   ],
   "source": [
    "a1 = np.arange(0,10 , dtype=np.int64)\n",
    "pr(a1 , 'a1')\n",
    "pr(a1[np.array([0,2,4])] , 'new array not a view')\n",
    "pr(a1[[0,2,4]] , 'new array not a view')"
   ]
  },
  {
   "cell_type": "code",
   "execution_count": 26,
   "id": "d89aa528",
   "metadata": {},
   "outputs": [
    {
     "name": "stdout",
     "output_type": "stream",
     "text": [
      "type:  <class 'numpy.ndarray'>\n"
     ]
    },
    {
     "data": {
      "text/plain": [
       "array([[1, 2],\n",
       "       [3, 4],\n",
       "       [5, 6]])"
      ]
     },
     "metadata": {},
     "output_type": "display_data"
    },
    {
     "name": "stdout",
     "output_type": "stream",
     "text": [
      " ---------------------- a2 ---------------------- \n",
      "type:  <class 'numpy.ndarray'>\n"
     ]
    },
    {
     "data": {
      "text/plain": [
       "array([1, 3, 6])"
      ]
     },
     "metadata": {},
     "output_type": "display_data"
    }
   ],
   "source": [
    "a1 = np.arange(1,7).reshape(3,2)\n",
    "pr(a1)\n",
    "a2 = a1[[0,1,2] , [0,0,1]]\n",
    "pr(a2 , 'a2')"
   ]
  },
  {
   "cell_type": "code",
   "execution_count": 27,
   "id": "cc7ba2ac",
   "metadata": {},
   "outputs": [
    {
     "name": "stdout",
     "output_type": "stream",
     "text": [
      " ---------------------- a1 ---------------------- \n",
      "type:  <class 'numpy.ndarray'>\n"
     ]
    },
    {
     "data": {
      "text/plain": [
       "array([[ 0,  1,  2,  3,  4],\n",
       "       [ 5,  6,  7,  8,  9],\n",
       "       [10, 11, 12, 13, 14]])"
      ]
     },
     "metadata": {},
     "output_type": "display_data"
    },
    {
     "name": "stdout",
     "output_type": "stream",
     "text": [
      "type:  <class 'numpy.ndarray'>\n"
     ]
    },
    {
     "data": {
      "text/plain": [
       "array([11,  0,  7])"
      ]
     },
     "metadata": {},
     "output_type": "display_data"
    }
   ],
   "source": [
    "a1 = np.arange(15).reshape((3,5))\n",
    "pr(a1 , 'a1')\n",
    "a2 = a1[[2,0,1] , [1,0,2]]\n",
    "pr(a2)"
   ]
  },
  {
   "cell_type": "code",
   "execution_count": 28,
   "id": "109d6b7b",
   "metadata": {},
   "outputs": [
    {
     "name": "stdout",
     "output_type": "stream",
     "text": [
      " ---------------------- a ---------------------- \n",
      "type:  <class 'numpy.ndarray'>\n"
     ]
    },
    {
     "data": {
      "text/plain": [
       "array([0, 1, 2, 3, 4, 5, 6, 7, 8, 9])"
      ]
     },
     "metadata": {},
     "output_type": "display_data"
    },
    {
     "name": "stdout",
     "output_type": "stream",
     "text": [
      "type:  <class 'numpy.ndarray'>\n"
     ]
    },
    {
     "data": {
      "text/plain": [
       "array([0, 2, 4, 6, 8])"
      ]
     },
     "metadata": {},
     "output_type": "display_data"
    },
    {
     "name": "stdout",
     "output_type": "stream",
     "text": [
      "type:  <class 'numpy.ndarray'>\n"
     ]
    },
    {
     "data": {
      "text/plain": [
       "array([ 0,  4, 16, 36, 64])"
      ]
     },
     "metadata": {},
     "output_type": "display_data"
    },
    {
     "name": "stdout",
     "output_type": "stream",
     "text": [
      "type:  <class 'numpy.ndarray'>\n"
     ]
    },
    {
     "data": {
      "text/plain": [
       "array([6, 7, 8, 9])"
      ]
     },
     "metadata": {},
     "output_type": "display_data"
    },
    {
     "name": "stdout",
     "output_type": "stream",
     "text": [
      "type:  <class 'numpy.ndarray'>\n"
     ]
    },
    {
     "data": {
      "text/plain": [
       "array([5])"
      ]
     },
     "metadata": {},
     "output_type": "display_data"
    }
   ],
   "source": [
    "a = np.arange(10)\n",
    "pr(a , 'a')\n",
    "pr(a[a % 2 == 0])\n",
    "pr(a[a % 2 == 0] ** 2)\n",
    "pr(a[a >5])\n",
    "pr(a[a==5])"
   ]
  },
  {
   "cell_type": "code",
   "execution_count": 29,
   "id": "de38869d",
   "metadata": {},
   "outputs": [
    {
     "name": "stdout",
     "output_type": "stream",
     "text": [
      " ---------------------- a ---------------------- \n",
      "type:  <class 'numpy.ndarray'>\n"
     ]
    },
    {
     "data": {
      "text/plain": [
       "array([0, 1, 2, 3, 4, 5, 6, 7, 8, 9])"
      ]
     },
     "metadata": {},
     "output_type": "display_data"
    },
    {
     "name": "stdout",
     "output_type": "stream",
     "text": [
      " ---------------------- mask ---------------------- \n",
      "type:  <class 'numpy.ndarray'>\n"
     ]
    },
    {
     "data": {
      "text/plain": [
       "array([ True, False,  True, False,  True, False,  True, False,  True,\n",
       "       False])"
      ]
     },
     "metadata": {},
     "output_type": "display_data"
    }
   ],
   "source": [
    "a =  np.arange(10)\n",
    "pr(a , 'a')\n",
    "pr(a % 2 == 0 , 'mask')"
   ]
  },
  {
   "cell_type": "markdown",
   "id": "6ffc40cd",
   "metadata": {},
   "source": [
    "# Arithmetic"
   ]
  },
  {
   "cell_type": "code",
   "execution_count": 36,
   "id": "3cea3f2d",
   "metadata": {},
   "outputs": [
    {
     "name": "stdout",
     "output_type": "stream",
     "text": [
      " ---------------------- array ---------------------- \n",
      "type:  <class 'numpy.ndarray'>\n"
     ]
    },
    {
     "data": {
      "text/plain": [
       "array([[ 0,  1,  2],\n",
       "       [ 3,  4,  5],\n",
       "       [ 6,  7,  8],\n",
       "       [ 9, 10, 11]])"
      ]
     },
     "metadata": {},
     "output_type": "display_data"
    },
    {
     "name": "stdout",
     "output_type": "stream",
     "text": [
      " ---------------------- array + 1  ---------------------- \n",
      "type:  <class 'numpy.ndarray'>\n"
     ]
    },
    {
     "data": {
      "text/plain": [
       "array([[ 1,  2,  3],\n",
       "       [ 4,  5,  6],\n",
       "       [ 7,  8,  9],\n",
       "       [10, 11, 12]])"
      ]
     },
     "metadata": {},
     "output_type": "display_data"
    },
    {
     "name": "stdout",
     "output_type": "stream",
     "text": [
      " ---------------------- array * 2  ---------------------- \n",
      "type:  <class 'numpy.ndarray'>\n"
     ]
    },
    {
     "data": {
      "text/plain": [
       "array([[ 0,  2,  4],\n",
       "       [ 6,  8, 10],\n",
       "       [12, 14, 16],\n",
       "       [18, 20, 22]])"
      ]
     },
     "metadata": {},
     "output_type": "display_data"
    },
    {
     "name": "stdout",
     "output_type": "stream",
     "text": [
      " ---------------------- array / 2  ---------------------- \n",
      "type:  <class 'numpy.ndarray'>\n"
     ]
    },
    {
     "data": {
      "text/plain": [
       "array([[0. , 0.5, 1. ],\n",
       "       [1.5, 2. , 2.5],\n",
       "       [3. , 3.5, 4. ],\n",
       "       [4.5, 5. , 5.5]])"
      ]
     },
     "metadata": {},
     "output_type": "display_data"
    },
    {
     "name": "stdout",
     "output_type": "stream",
     "text": [
      " ---------------------- array ** 2  ---------------------- \n",
      "type:  <class 'numpy.ndarray'>\n"
     ]
    },
    {
     "data": {
      "text/plain": [
       "array([[  0,   1,   4],\n",
       "       [  9,  16,  25],\n",
       "       [ 36,  49,  64],\n",
       "       [ 81, 100, 121]])"
      ]
     },
     "metadata": {},
     "output_type": "display_data"
    }
   ],
   "source": [
    "# scalar arithmetic \n",
    "array = np.arange(12).reshape((4,3))\n",
    "pr(array , 'array')\n",
    "pr(array + 1  , 'array + 1 ')\n",
    "pr(array * 2  , 'array * 2 ')\n",
    "pr(array / 2  , 'array / 2 ')\n",
    "pr(array ** 2  , 'array ** 2 ')\n"
   ]
  },
  {
   "cell_type": "code",
   "execution_count": 44,
   "id": "6b70853e",
   "metadata": {},
   "outputs": [
    {
     "name": "stdout",
     "output_type": "stream",
     "text": [
      " ---------------------- array ---------------------- \n",
      "type:  <class 'numpy.ndarray'>\n"
     ]
    },
    {
     "data": {
      "text/plain": [
       "array([[ 0,  1,  2],\n",
       "       [ 3,  4,  5],\n",
       "       [ 6,  7,  8],\n",
       "       [ 9, 10, 11]])"
      ]
     },
     "metadata": {},
     "output_type": "display_data"
    },
    {
     "name": "stdout",
     "output_type": "stream",
     "text": [
      " ---------------------- vectorized operation ---------------------- \n",
      "type:  <class 'numpy.ndarray'>\n"
     ]
    },
    {
     "data": {
      "text/plain": [
       "array([[ 0,  2,  6],\n",
       "       [ 3,  8, 15],\n",
       "       [ 6, 14, 24],\n",
       "       [ 9, 20, 33]])"
      ]
     },
     "metadata": {},
     "output_type": "display_data"
    },
    {
     "name": "stdout",
     "output_type": "stream",
     "text": [
      " ---------------------- built in square root vectorized function ---------------------- \n",
      "type:  <class 'numpy.ndarray'>\n"
     ]
    },
    {
     "data": {
      "text/plain": [
       "array([[0.        , 1.        , 1.41421356],\n",
       "       [1.73205081, 2.        , 2.23606798],\n",
       "       [2.44948974, 2.64575131, 2.82842712],\n",
       "       [3.        , 3.16227766, 3.31662479]])"
      ]
     },
     "metadata": {},
     "output_type": "display_data"
    },
    {
     "name": "stdout",
     "output_type": "stream",
     "text": [
      " ---------------------- built in square vectorized function ---------------------- \n",
      "type:  <class 'numpy.ndarray'>\n"
     ]
    },
    {
     "data": {
      "text/plain": [
       "array([[  0,   1,   4],\n",
       "       [  9,  16,  25],\n",
       "       [ 36,  49,  64],\n",
       "       [ 81, 100, 121]])"
      ]
     },
     "metadata": {},
     "output_type": "display_data"
    },
    {
     "name": "stdout",
     "output_type": "stream",
     "text": [
      " ---------------------- example on round function ---------------------- \n",
      "type:  <class 'numpy.ndarray'>\n"
     ]
    },
    {
     "data": {
      "text/plain": [
       "array([[ 0.,  1.,  2.],\n",
       "       [ 4.,  5.,  6.],\n",
       "       [ 7.,  8., 10.],\n",
       "       [11., 12., 13.]])"
      ]
     },
     "metadata": {},
     "output_type": "display_data"
    },
    {
     "name": "stdout",
     "output_type": "stream",
     "text": [
      " ---------------------- example on ceil function ---------------------- \n",
      "type:  <class 'numpy.ndarray'>\n"
     ]
    },
    {
     "data": {
      "text/plain": [
       "array([[ 0.,  2.,  3.],\n",
       "       [ 4.,  5.,  6.],\n",
       "       [ 8.,  9., 10.],\n",
       "       [11., 12., 14.]])"
      ]
     },
     "metadata": {},
     "output_type": "display_data"
    }
   ],
   "source": [
    "# vectorized math functions\n",
    "array = np.arange(12).reshape((4,3))\n",
    "pr(array , 'array')\n",
    "pr(array * np.array([1,2,3]) , 'vectorized operation')\n",
    "# the line of code below throws an error because the shape don't match.\n",
    "# pr(array * np.array([1,2,3,4]))\n",
    "pr(np.sqrt(array) , 'built in square root vectorized function')\n",
    "pr(np.square(array) , 'built in square vectorized function')\n",
    "pr(np.round(array * 1.2) , 'example on round function')\n",
    "pr(np.ceil(array * 1.2) , 'example on ceil function')"
   ]
  },
  {
   "cell_type": "code",
   "execution_count": 45,
   "id": "9273fa4b",
   "metadata": {},
   "outputs": [
    {
     "name": "stdout",
     "output_type": "stream",
     "text": [
      " ---------------------- pi ---------------------- \n",
      "type:  <class 'float'>\n"
     ]
    },
    {
     "data": {
      "text/plain": [
       "3.141592653589793"
      ]
     },
     "metadata": {},
     "output_type": "display_data"
    }
   ],
   "source": [
    "# built in constants\n",
    "pr(np.pi , 'pi')"
   ]
  },
  {
   "cell_type": "code",
   "execution_count": 50,
   "id": "caab6f94",
   "metadata": {},
   "outputs": [
    {
     "name": "stdout",
     "output_type": "stream",
     "text": [
      "type:  <class 'numpy.ndarray'>\n"
     ]
    },
    {
     "data": {
      "text/plain": [
       "array([5, 7, 9])"
      ]
     },
     "metadata": {},
     "output_type": "display_data"
    },
    {
     "name": "stdout",
     "output_type": "stream",
     "text": [
      "type:  <class 'numpy.ndarray'>\n"
     ]
    },
    {
     "data": {
      "text/plain": [
       "array([-3, -3, -3])"
      ]
     },
     "metadata": {},
     "output_type": "display_data"
    },
    {
     "name": "stdout",
     "output_type": "stream",
     "text": [
      "type:  <class 'numpy.ndarray'>\n"
     ]
    },
    {
     "data": {
      "text/plain": [
       "array([ 4, 10, 18])"
      ]
     },
     "metadata": {},
     "output_type": "display_data"
    },
    {
     "name": "stdout",
     "output_type": "stream",
     "text": [
      "type:  <class 'numpy.ndarray'>\n"
     ]
    },
    {
     "data": {
      "text/plain": [
       "array([0.25, 0.4 , 0.5 ])"
      ]
     },
     "metadata": {},
     "output_type": "display_data"
    },
    {
     "name": "stdout",
     "output_type": "stream",
     "text": [
      "type:  <class 'numpy.ndarray'>\n"
     ]
    },
    {
     "data": {
      "text/plain": [
       "array([  1,  32, 729])"
      ]
     },
     "metadata": {},
     "output_type": "display_data"
    }
   ],
   "source": [
    "# element wise operations\n",
    "array1 = np.array([1,2,3])\n",
    "array2 = np.array([4,5,6])\n",
    "pr(array1+array2)\n",
    "pr(array1-array2)\n",
    "pr(array1*array2)\n",
    "pr(array1/array2)\n",
    "pr(array1**array2)"
   ]
  },
  {
   "cell_type": "code",
   "execution_count": 54,
   "id": "979e7b72",
   "metadata": {},
   "outputs": [
    {
     "name": "stdout",
     "output_type": "stream",
     "text": [
      "type:  <class 'numpy.ndarray'>\n"
     ]
    },
    {
     "data": {
      "text/plain": [
       "array([False, False, False,  True, False, False])"
      ]
     },
     "metadata": {},
     "output_type": "display_data"
    },
    {
     "name": "stdout",
     "output_type": "stream",
     "text": [
      "type:  <class 'numpy.ndarray'>\n"
     ]
    },
    {
     "data": {
      "text/plain": [
       "array([False, False,  True,  True,  True,  True])"
      ]
     },
     "metadata": {},
     "output_type": "display_data"
    },
    {
     "name": "stdout",
     "output_type": "stream",
     "text": [
      "type:  <class 'numpy.ndarray'>\n"
     ]
    },
    {
     "data": {
      "text/plain": [
       "array([ True,  True, False, False, False, False])"
      ]
     },
     "metadata": {},
     "output_type": "display_data"
    },
    {
     "name": "stdout",
     "output_type": "stream",
     "text": [
      "type:  <class 'numpy.ndarray'>\n"
     ]
    },
    {
     "data": {
      "text/plain": [
       "array([  0,   0,  90, 100,  73,  67])"
      ]
     },
     "metadata": {},
     "output_type": "display_data"
    }
   ],
   "source": [
    "# comparison operators\n",
    "scores = np.array([40,38 , 90 , 100 ,73  , 67])\n",
    "pr(scores == 100)\n",
    "pr(scores >= 60)\n",
    "pr(scores<60)\n",
    "scores[scores < 60] = 0\n",
    "pr(scores)"
   ]
  },
  {
   "cell_type": "markdown",
   "id": "8da95faa",
   "metadata": {},
   "source": [
    "# broadcasting\n",
    "- broadcasting allows NumPy to perform operations on arrays with different shapes by virtually expanding dimensions so they match the larger array's shape.\n",
    "- the main condition to remember is `the dimensions have the same size or one of the dimensions has a size 1`"
   ]
  },
  {
   "cell_type": "code",
   "execution_count": 56,
   "id": "cf39528a",
   "metadata": {},
   "outputs": [
    {
     "name": "stdout",
     "output_type": "stream",
     "text": [
      " ---------------------- array1.shape ---------------------- \n",
      "type:  <class 'tuple'>\n"
     ]
    },
    {
     "data": {
      "text/plain": [
       "(1, 4)"
      ]
     },
     "metadata": {},
     "output_type": "display_data"
    },
    {
     "name": "stdout",
     "output_type": "stream",
     "text": [
      " ---------------------- array2.shape ---------------------- \n",
      "type:  <class 'tuple'>\n"
     ]
    },
    {
     "data": {
      "text/plain": [
       "(4, 1)"
      ]
     },
     "metadata": {},
     "output_type": "display_data"
    },
    {
     "name": "stdout",
     "output_type": "stream",
     "text": [
      "type:  <class 'numpy.ndarray'>\n"
     ]
    },
    {
     "data": {
      "text/plain": [
       "array([[2, 3, 4, 5],\n",
       "       [3, 4, 5, 6],\n",
       "       [4, 5, 6, 7],\n",
       "       [5, 6, 7, 8]])"
      ]
     },
     "metadata": {},
     "output_type": "display_data"
    }
   ],
   "source": [
    "array1 = np.array([[1,2,3,4]]) # size (1,4)\n",
    "array2 = np.array([[1] , [2] , [3] , [4]]) # size (4,1)\n",
    "pr(array1.shape , 'array1.shape')\n",
    "pr(array2.shape , 'array2.shape')\n",
    "pr(array1+array2) "
   ]
  },
  {
   "cell_type": "code",
   "execution_count": 57,
   "id": "5506c776",
   "metadata": {},
   "outputs": [
    {
     "name": "stdout",
     "output_type": "stream",
     "text": [
      "type:  <class 'numpy.ndarray'>\n"
     ]
    },
    {
     "data": {
      "text/plain": [
       "array([[  1,   2,   3,   4,   5,   6,   7,   8,   9,  10],\n",
       "       [  2,   4,   6,   8,  10,  12,  14,  16,  18,  20],\n",
       "       [  3,   6,   9,  12,  15,  18,  21,  24,  27,  30],\n",
       "       [  4,   8,  12,  16,  20,  24,  28,  32,  36,  40],\n",
       "       [  5,  10,  15,  20,  25,  30,  35,  40,  45,  50],\n",
       "       [  6,  12,  18,  24,  30,  36,  42,  48,  54,  60],\n",
       "       [  7,  14,  21,  28,  35,  42,  49,  56,  63,  70],\n",
       "       [  8,  16,  24,  32,  40,  48,  56,  64,  72,  80],\n",
       "       [  9,  18,  27,  36,  45,  54,  63,  72,  81,  90],\n",
       "       [ 10,  20,  30,  40,  50,  60,  70,  80,  90, 100]])"
      ]
     },
     "metadata": {},
     "output_type": "display_data"
    }
   ],
   "source": [
    "# let's create a multiplication table\n",
    "array1 = np.array([[1,2,3,4,5,6,7,8,9,10]])\n",
    "array2 = np.array([[1],[2],[3],[4],[5],[6],[7],[8],[9],[10],])\n",
    "pr(array1*array2)"
   ]
  },
  {
   "cell_type": "code",
   "execution_count": null,
   "id": "2351458a",
   "metadata": {},
   "outputs": [],
   "source": []
  }
 ],
 "metadata": {
  "kernelspec": {
   "display_name": "venv",
   "language": "python",
   "name": "python3"
  },
  "language_info": {
   "codemirror_mode": {
    "name": "ipython",
    "version": 3
   },
   "file_extension": ".py",
   "mimetype": "text/x-python",
   "name": "python",
   "nbconvert_exporter": "python",
   "pygments_lexer": "ipython3",
   "version": "3.13.5"
  }
 },
 "nbformat": 4,
 "nbformat_minor": 5
}
